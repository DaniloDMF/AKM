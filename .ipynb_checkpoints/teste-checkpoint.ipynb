{
 "cells": [
  {
   "cell_type": "code",
   "execution_count": 1,
   "metadata": {},
   "outputs": [],
   "source": [
    "import re\n",
    "import pandas as pd\n",
    "import requests\n",
    "import pdfplumber"
   ]
  },
  {
   "cell_type": "code",
   "execution_count": 41,
   "metadata": {},
   "outputs": [],
   "source": [
    "arquivo = pdfplumber.open(\"arquivo/Extrato Banco.pdf\")"
   ]
  },
  {
   "cell_type": "code",
   "execution_count": 34,
   "metadata": {},
   "outputs": [],
   "source": [
    "with pdfplumber.open(\"arquivo/Extrato Agrupado Simplificado.pdf\") as pdf:\n",
    "    a = pdf.pages[0]\n",
    "    a.chars[0]"
   ]
  },
  {
   "cell_type": "code",
   "execution_count": 35,
   "metadata": {},
   "outputs": [],
   "source": [
    "b = a.extract_text().split(\"\\n\")"
   ]
  },
  {
   "cell_type": "code",
   "execution_count": 36,
   "metadata": {},
   "outputs": [],
   "source": [
    "serie = pd.Series(b)"
   ]
  },
  {
   "cell_type": "code",
   "execution_count": 37,
   "metadata": {},
   "outputs": [],
   "source": [
    "contratos = []\n",
    "aluguel = []"
   ]
  },
  {
   "cell_type": "code",
   "execution_count": 38,
   "metadata": {},
   "outputs": [],
   "source": [
    "for x in range (0, len(serie)):\n",
    "    linha = serie.loc[x]\n",
    "    primeira_palavra = linha.split(\" \")[0]\n",
    "    \n",
    "    if primeira_palavra == \"Emitido\":\n",
    "        data_emicao = linha.split(\" \")[2]\n",
    "        \n",
    "    if primeira_palavra == \"Contrato\":\n",
    "        contratos.append(linha[len(\"Contrato \"):])\n",
    "        \n",
    "    if primeira_palavra == \"Aluguel\":\n",
    "        aluguel.append(float((linha[len(\"Aluguel - 01/12/2020 até 31/12/2020 \"):].replace(\",\", \".\"))))"
   ]
  },
  {
   "cell_type": "code",
   "execution_count": 39,
   "metadata": {},
   "outputs": [
    {
     "data": {
      "text/plain": [
       "[368.3, 368.3, 429.68, 437.77]"
      ]
     },
     "execution_count": 39,
     "metadata": {},
     "output_type": "execute_result"
    }
   ],
   "source": [
    "aluguel"
   ]
  },
  {
   "cell_type": "code",
   "execution_count": 40,
   "metadata": {},
   "outputs": [
    {
     "data": {
      "text/plain": [
       "['PDF',\n",
       " '__all__',\n",
       " '__builtins__',\n",
       " '__cached__',\n",
       " '__doc__',\n",
       " '__file__',\n",
       " '__loader__',\n",
       " '__name__',\n",
       " '__package__',\n",
       " '__path__',\n",
       " '__spec__',\n",
       " '__version__',\n",
       " '_version',\n",
       " 'container',\n",
       " 'convert',\n",
       " 'load',\n",
       " 'open',\n",
       " 'page',\n",
       " 'pdf',\n",
       " 'pdfminer',\n",
       " 'set_debug',\n",
       " 'sys',\n",
       " 'table',\n",
       " 'utils']"
      ]
     },
     "execution_count": 40,
     "metadata": {},
     "output_type": "execute_result"
    }
   ],
   "source": [
    "dir(pdfplumber)"
   ]
  },
  {
   "cell_type": "code",
   "execution_count": null,
   "metadata": {},
   "outputs": [],
   "source": []
  },
  {
   "cell_type": "code",
   "execution_count": null,
   "metadata": {},
   "outputs": [],
   "source": []
  }
 ],
 "metadata": {
  "kernelspec": {
   "display_name": "Python 3",
   "language": "python",
   "name": "python3"
  },
  "language_info": {
   "codemirror_mode": {
    "name": "ipython",
    "version": 3
   },
   "file_extension": ".py",
   "mimetype": "text/x-python",
   "name": "python",
   "nbconvert_exporter": "python",
   "pygments_lexer": "ipython3",
   "version": "3.8.5"
  }
 },
 "nbformat": 4,
 "nbformat_minor": 4
}
