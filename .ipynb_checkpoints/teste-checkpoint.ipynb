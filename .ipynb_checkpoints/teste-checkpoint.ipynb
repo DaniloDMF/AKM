{
 "cells": [
  {
   "cell_type": "code",
   "execution_count": 40,
   "metadata": {},
   "outputs": [],
   "source": [
    "import re\n",
    "import pandas as pd\n",
    "import requests\n",
    "import pdfplumber"
   ]
  },
  {
   "cell_type": "code",
   "execution_count": 44,
   "metadata": {},
   "outputs": [
    {
     "data": {
      "text/plain": [
       "['PDF',\n",
       " '__all__',\n",
       " '__builtins__',\n",
       " '__cached__',\n",
       " '__doc__',\n",
       " '__file__',\n",
       " '__loader__',\n",
       " '__name__',\n",
       " '__package__',\n",
       " '__path__',\n",
       " '__spec__',\n",
       " '__version__',\n",
       " '_version',\n",
       " 'container',\n",
       " 'convert',\n",
       " 'load',\n",
       " 'open',\n",
       " 'page',\n",
       " 'pdf',\n",
       " 'pdfminer',\n",
       " 'set_debug',\n",
       " 'sys',\n",
       " 'table',\n",
       " 'utils']"
      ]
     },
     "execution_count": 44,
     "metadata": {},
     "output_type": "execute_result"
    }
   ],
   "source": [
    "dir(pdfplumber)"
   ]
  },
  {
   "cell_type": "code",
   "execution_count": 63,
   "metadata": {},
   "outputs": [],
   "source": [
    "with pdfplumber.open(\"C:/Users/T-Gamer/Documents/GitHub/AKM/arquivo/Extrato Agrupado Simplificado.pdf\") as pdf:\n",
    "    first_page = pdf.pages[0]\n",
    "    first_page.chars[0]"
   ]
  },
  {
   "cell_type": "code",
   "execution_count": 71,
   "metadata": {},
   "outputs": [],
   "source": [
    "a = pdf.pages[0]\n",
    "b = a.extract_text().split(\"\\n\")"
   ]
  },
  {
   "cell_type": "code",
   "execution_count": 84,
   "metadata": {},
   "outputs": [],
   "source": [
    "serie = pd.Series(b)"
   ]
  },
  {
   "cell_type": "code",
   "execution_count": 108,
   "metadata": {},
   "outputs": [],
   "source": [
    "contratos = []"
   ]
  },
  {
   "cell_type": "code",
   "execution_count": 111,
   "metadata": {},
   "outputs": [
    {
     "name": "stdout",
     "output_type": "stream",
     "text": [
      "01951013/1 - Sala comercial no Farol, Rua Desembargador Amorim Lima 3  SALA 0008 , Maceió-AL CEP: 57051-180\n",
      "01951012/1 - Sala comercial no Farol, Rua Desembargador Amorim Lima 03  sala 07 , Maceió-AL CEP: 57051-180\n",
      "01951014/1 - Sala comercial no Farol, Rua Desembargador Amorim Lima 3  SALA 09 , Maceió-AL CEP: 57051-180\n",
      "01951017/1 - Casa no Centro, Rua Barão de Atalaia 501  CASA 03 , Maceió-AL CEP: 57020-510\n",
      "01951006/1 - Sala comercial no Farol, Rua Desembargador Amorim Lima 3  SALA 0001 , Maceió-AL CEP: 57051-180\n"
     ]
    }
   ],
   "source": [
    "for x in range (0, len(serie)):\n",
    "    linha = serie.loc[x]\n",
    "    primeira_palavra = linha.split(\" \")[0]\n",
    "    \n",
    "    if primeira_palavra == \"Emitido\":\n",
    "        data_emicao = linha.split(\" \")[2]\n",
    "        \n",
    "    if primeira_palavra == \"Contrato\":\n",
    "        contratos.append(linha[len(\"Contrato \"):])\n",
    "        print(linha[len(\"Contrato \"):])"
   ]
  },
  {
   "cell_type": "code",
   "execution_count": 112,
   "metadata": {},
   "outputs": [
    {
     "data": {
      "text/plain": [
       "'23/01/2021'"
      ]
     },
     "execution_count": 112,
     "metadata": {},
     "output_type": "execute_result"
    }
   ],
   "source": [
    "data_emicao"
   ]
  },
  {
   "cell_type": "code",
   "execution_count": 113,
   "metadata": {},
   "outputs": [
    {
     "data": {
      "text/plain": [
       "['01951013/1 - Sala comercial no Farol, Rua Desembargador Amorim Lima 3  SALA 0008 , Maceió-AL CEP: 57051-180',\n",
       " '01951012/1 - Sala comercial no Farol, Rua Desembargador Amorim Lima 03  sala 07 , Maceió-AL CEP: 57051-180',\n",
       " '01951014/1 - Sala comercial no Farol, Rua Desembargador Amorim Lima 3  SALA 09 , Maceió-AL CEP: 57051-180',\n",
       " '01951017/1 - Casa no Centro, Rua Barão de Atalaia 501  CASA 03 , Maceió-AL CEP: 57020-510',\n",
       " '01951006/1 - Sala comercial no Farol, Rua Desembargador Amorim Lima 3  SALA 0001 , Maceió-AL CEP: 57051-180',\n",
       " '01951013/1 - Sala comercial no Farol, Rua Desembargador Amorim Lima 3  SALA 0008 , Maceió-AL CEP: 57051-180',\n",
       " '01951012/1 - Sala comercial no Farol, Rua Desembargador Amorim Lima 03  sala 07 , Maceió-AL CEP: 57051-180',\n",
       " '01951014/1 - Sala comercial no Farol, Rua Desembargador Amorim Lima 3  SALA 09 , Maceió-AL CEP: 57051-180',\n",
       " '01951017/1 - Casa no Centro, Rua Barão de Atalaia 501  CASA 03 , Maceió-AL CEP: 57020-510',\n",
       " '01951006/1 - Sala comercial no Farol, Rua Desembargador Amorim Lima 3  SALA 0001 , Maceió-AL CEP: 57051-180']"
      ]
     },
     "execution_count": 113,
     "metadata": {},
     "output_type": "execute_result"
    }
   ],
   "source": [
    "contratos"
   ]
  },
  {
   "cell_type": "code",
   "execution_count": null,
   "metadata": {},
   "outputs": [],
   "source": []
  }
 ],
 "metadata": {
  "kernelspec": {
   "display_name": "Python 3",
   "language": "python",
   "name": "python3"
  },
  "language_info": {
   "codemirror_mode": {
    "name": "ipython",
    "version": 3
   },
   "file_extension": ".py",
   "mimetype": "text/x-python",
   "name": "python",
   "nbconvert_exporter": "python",
   "pygments_lexer": "ipython3",
   "version": "3.8.5"
  }
 },
 "nbformat": 4,
 "nbformat_minor": 4
}
