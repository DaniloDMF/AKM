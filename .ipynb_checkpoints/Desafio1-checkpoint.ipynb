{
 "cells": [
  {
   "cell_type": "code",
   "execution_count": 1,
   "metadata": {},
   "outputs": [],
   "source": [
    "import re\n",
    "import pandas as pd\n",
    "import requests\n",
    "import pdfplumber"
   ]
  },
  {
   "cell_type": "code",
   "execution_count": 18,
   "metadata": {},
   "outputs": [],
   "source": [
    "def extrair(pdf):\n",
    "    tira_rep = 0\n",
    "    for x in range (0, len(pdf)):\n",
    "\n",
    "        #nome do contribuinte\n",
    "        if pdf[x] == 'Contribuinte D.A.M.':\n",
    "            nome = text_RAM[x+1].upper()\n",
    "            nome = re.sub('[^A-Z]', ' ', nome).strip(\" \")\n",
    "        #CPF/CNPJ  //  Inscrição/CMC  //  Tributos  //  Referência  //  Vencimento\n",
    "        if pdf[x][:8] == 'CPF/CNPJ':\n",
    "            if tira_rep == 0:\n",
    "                tira_rep = 1\n",
    "                dados = pdf[x+1].split(\" \")\n",
    "                cpf_cnpj = dados[0]\n",
    "                inscricao_CMC = dados[1]\n",
    "                tributos = dados[2] + \" \" + dados[3]\n",
    "                referencia = dados[4]\n",
    "                vencimento = dados[5]\n",
    "        #Logradouro\n",
    "        #Número\n",
    "        #CEP\n",
    "        #Bairro\n",
    "        #Complemento\n",
    "        #Área terreno\n",
    "        #Área Total Construída\n",
    "        #Área Construída Unidade\n",
    "        #Valor Venal Terreno\n",
    "        #Valor Venal Construção\n",
    "        #Valor Venal Imóvel \n",
    "        #Base de Cálculo\n",
    "        #Alíquota\n",
    "\n",
    "        #total a pagar\n",
    "        if pdf[x][0:len('Total a Pagar: ')] == 'Total a Pagar: ':\n",
    "            total_a_pagar = float(pdf[x][len('Total a Pagar: '):].replace(',', '.'))\n",
    "            \n",
    "    #codigo de barras     \n",
    "    codBarras = pdf[-1]\n",
    "        \n",
    "    dados_para_df = {'Nome':[nome],\"cpf_cnpj\":[cpf_cnpj],\"inscricao_CMC\":[inscricao_CMC],\"tributos\":tributos,\"referencia\":[referencia],\"vencimento\":[vencimento],\"total_a_pagar\":[total_a_pagar],'codBarras':[codBarras]}\n",
    "    df = pd.DataFrame(dados_para_df).T\n",
    "    \n",
    "    return df"
   ]
  },
  {
   "cell_type": "code",
   "execution_count": 17,
   "metadata": {},
   "outputs": [],
   "source": [
    "with pdfplumber.open(\"arquivo/Rua Ângelo Martins, 445 1-10.pdf\") as pdf:\n",
    "    RAM = pdf.pages[0]\n",
    "    RAM.chars[0]\n",
    "    text_RAM = RAM.extract_text().split(\"\\n\")"
   ]
  },
  {
   "cell_type": "code",
   "execution_count": 19,
   "metadata": {},
   "outputs": [
    {
     "data": {
      "text/html": [
       "<div>\n",
       "<style scoped>\n",
       "    .dataframe tbody tr th:only-of-type {\n",
       "        vertical-align: middle;\n",
       "    }\n",
       "\n",
       "    .dataframe tbody tr th {\n",
       "        vertical-align: top;\n",
       "    }\n",
       "\n",
       "    .dataframe thead th {\n",
       "        text-align: right;\n",
       "    }\n",
       "</style>\n",
       "<table border=\"1\" class=\"dataframe\">\n",
       "  <thead>\n",
       "    <tr style=\"text-align: right;\">\n",
       "      <th></th>\n",
       "      <th>0</th>\n",
       "    </tr>\n",
       "  </thead>\n",
       "  <tbody>\n",
       "    <tr>\n",
       "      <th>Nome</th>\n",
       "      <td>MANOEL CORREIA TELLES</td>\n",
       "    </tr>\n",
       "    <tr>\n",
       "      <th>cpf_cnpj</th>\n",
       "      <td>002.643.184-04</td>\n",
       "    </tr>\n",
       "    <tr>\n",
       "      <th>inscricao_CMC</th>\n",
       "      <td>000000000120433</td>\n",
       "    </tr>\n",
       "    <tr>\n",
       "      <th>tributos</th>\n",
       "      <td>I.P.T.U. 2021</td>\n",
       "    </tr>\n",
       "    <tr>\n",
       "      <th>referencia</th>\n",
       "      <td>1/10</td>\n",
       "    </tr>\n",
       "    <tr>\n",
       "      <th>vencimento</th>\n",
       "      <td>31/03/2021</td>\n",
       "    </tr>\n",
       "    <tr>\n",
       "      <th>total_a_pagar</th>\n",
       "      <td>70.87</td>\n",
       "    </tr>\n",
       "    <tr>\n",
       "      <th>codBarras</th>\n",
       "      <td>81620000000-7 70872485202-3 10331110000-4 0007...</td>\n",
       "    </tr>\n",
       "  </tbody>\n",
       "</table>\n",
       "</div>"
      ],
      "text/plain": [
       "                                                               0\n",
       "Nome                                       MANOEL CORREIA TELLES\n",
       "cpf_cnpj                                          002.643.184-04\n",
       "inscricao_CMC                                    000000000120433\n",
       "tributos                                           I.P.T.U. 2021\n",
       "referencia                                                  1/10\n",
       "vencimento                                            31/03/2021\n",
       "total_a_pagar                                              70.87\n",
       "codBarras      81620000000-7 70872485202-3 10331110000-4 0007..."
      ]
     },
     "execution_count": 19,
     "metadata": {},
     "output_type": "execute_result"
    }
   ],
   "source": [
    "extrair(text_RAM)"
   ]
  },
  {
   "cell_type": "code",
   "execution_count": null,
   "metadata": {},
   "outputs": [],
   "source": []
  }
 ],
 "metadata": {
  "kernelspec": {
   "display_name": "Python 3",
   "language": "python",
   "name": "python3"
  },
  "language_info": {
   "codemirror_mode": {
    "name": "ipython",
    "version": 3
   },
   "file_extension": ".py",
   "mimetype": "text/x-python",
   "name": "python",
   "nbconvert_exporter": "python",
   "pygments_lexer": "ipython3",
   "version": "3.8.5"
  }
 },
 "nbformat": 4,
 "nbformat_minor": 4
}
