{
 "cells": [
  {
   "cell_type": "code",
   "execution_count": 1,
   "metadata": {},
   "outputs": [],
   "source": [
    "import re\n",
    "import pandas as pd\n",
    "import requests\n",
    "import pdfplumber"
   ]
  },
  {
   "cell_type": "code",
   "execution_count": 2,
   "metadata": {},
   "outputs": [],
   "source": [
    "arquivo = pdfplumber.open(\"arquivo/Extrato Banco.pdf\")"
   ]
  },
  {
   "cell_type": "code",
   "execution_count": 3,
   "metadata": {},
   "outputs": [],
   "source": [
    "with pdfplumber.open(\"arquivo/Extrato Agrupado Simplificado.pdf\") as pdf:\n",
    "    a = pdf.pages[0]\n",
    "    a.chars[0]\n",
    "    "
   ]
  },
  {
   "cell_type": "code",
   "execution_count": 4,
   "metadata": {},
   "outputs": [],
   "source": [
    "b = a.extract_text().split(\"\\n\")"
   ]
  },
  {
   "cell_type": "code",
   "execution_count": 5,
   "metadata": {},
   "outputs": [],
   "source": [
    "serie = pd.Series(b)"
   ]
  },
  {
   "cell_type": "code",
   "execution_count": 6,
   "metadata": {},
   "outputs": [],
   "source": [
    "contratos = []\n",
    "aluguel = []"
   ]
  },
  {
   "cell_type": "code",
   "execution_count": 7,
   "metadata": {},
   "outputs": [],
   "source": [
    "for x in range (0, len(serie)):\n",
    "    linha = serie.loc[x]\n",
    "    primeira_palavra = linha.split(\" \")[0]\n",
    "    \n",
    "    if primeira_palavra == \"Emitido\":\n",
    "        data_emicao = linha.split(\" \")[2]\n",
    "        \n",
    "    if primeira_palavra == \"Contrato\":\n",
    "        contratos.append(linha[len(\"Contrato \"):])\n",
    "        \n",
    "    if primeira_palavra == \"Aluguel\":\n",
    "        aluguel.append(float((linha[len(\"Aluguel - 01/12/2020 até 31/12/2020 \"):].replace(\",\", \".\"))))"
   ]
  },
  {
   "cell_type": "code",
   "execution_count": 8,
   "metadata": {},
   "outputs": [
    {
     "data": {
      "text/plain": [
       "[368.3, 368.3, 429.68, 437.77]"
      ]
     },
     "execution_count": 8,
     "metadata": {},
     "output_type": "execute_result"
    }
   ],
   "source": [
    "aluguel"
   ]
  },
  {
   "cell_type": "markdown",
   "metadata": {},
   "source": [
    "<h1>Desafio 1</h1>"
   ]
  },
  {
   "cell_type": "code",
   "execution_count": 9,
   "metadata": {},
   "outputs": [],
   "source": [
    "with pdfplumber.open(\"arquivo/Rua Ângelo Martins, 445 1-10.pdf\") as pdf:\n",
    "    RAM = pdf.pages[0]\n",
    "    RAM.chars[0]"
   ]
  },
  {
   "cell_type": "code",
   "execution_count": 10,
   "metadata": {},
   "outputs": [],
   "source": [
    "text_RAM = RAM.extract_text().split(\"\\n\")"
   ]
  },
  {
   "cell_type": "code",
   "execution_count": 11,
   "metadata": {},
   "outputs": [
    {
     "data": {
      "text/plain": [
       "['SEMEC - PREFEITURA MUNICIPAL DE MACEIO',\n",
       " 'SECRETARIA MUNICIPAL DE ECONOMIA - SEMEC',\n",
       " 'DOCUMENTO DE ARRECADAÇÃO MUNICIPAL - D.A.M MENSAL Text',\n",
       " 'Perdeu o prazo do DAM? Emita automaticamente através do QRCODE',\n",
       " 'Contribuinte D.A.M.',\n",
       " 'MANOEL CORREIA TELLES 66114110 / 2021',\n",
       " 'CPF/CNPJ Inscrição / C.M.C. Tributos Referência Vencimento Nosso Número',\n",
       " '002.643.184-04 000000000120433 I.P.T.U. 2021 1/10 31/03/2021 11000000075755253',\n",
       " 'Endereço de Localização',\n",
       " 'Logradouro: RUA - ÂNGELO MARTINS 00445 Cep: 57030592',\n",
       " 'Número:',\n",
       " 'Bairro: PONTA DA TERRA Complemento: Lote: 0530 Quadra: 0102',\n",
       " 'Loteamento: Quadra Lot.: Lote Lot.:',\n",
       " 'Imóvel: PREDIAL Identificação: 05010240530001',\n",
       " 'Área Terreno: 119,00 Área Total Construída: 73,58 Área Construída Unidade: 73,58',\n",
       " 'Valor Venal Terreno: 24.273,80 Valor Venal Construção: 51.307,41',\n",
       " 'Valor Venal Imóvel: 75.581,21 Base de Cálculo: 45.348,73 Alíquota:  1,0000',\n",
       " 'IPTU PREDIAL - PRINCIPAL 45,35',\n",
       " 'COLETA DE LIXO 25,52 Valor R$ 70,87',\n",
       " 'DESCONTO: 0,00',\n",
       " 'Total: 70,87 Emissão:27/01/2021 Usuário:123456',\n",
       " 'Autenticação:',\n",
       " '81620000000-7 70872485202-3 10331110000-4 00075755253-4',\n",
       " 'SEMEC - PREFEITURA MUNICIPAL DE MACEIO',\n",
       " 'SECRETARIA MUNICIPAL DE ECONOMIA - SEMEC',\n",
       " 'DOCUMENTO DE ARRECADAÇÃO MUNICIPAL - D.A.M MENSAL',\n",
       " 'Contribuinte',\n",
       " 'MANOEL CORREIA TELLES',\n",
       " 'CPF/CNPJ Inscrição / C.M.C. Tributos Referência Vencimento Nosso Número',\n",
       " '002.643.184-04 000000000120433 I.P.T.U. 2021 1/10 31/03/2021 11000000075755253',\n",
       " 'RUA - ÂNGELO MARTINS, Número: 00445, Quadra: 0102, Lote: 0530 - CEP: 57030592    Bairro: PONTA DA TERRA',\n",
       " 'IPTU PREDIAL - PRINCIPAL  45,35       COLETA DE LIXO  25,52       DESCONTO:  0,00',\n",
       " 'Total a Pagar: 70,87',\n",
       " 'Instruções:',\n",
       " 'LOCAIS PARA PAGAMENTO:',\n",
       " 'CAIXA ECONÔMICA FEDERAL, SANTANDER, BRADESCO, ITAU,',\n",
       " 'BANCO DO BRASIL, SICREDI, LOTERIAS, MULTIBANK E CORREIOS.',\n",
       " 'EMITA SUA SEGUNDA VIA E OUTROS SERVIÇOS EM',\n",
       " 'WWW.ONLINE.MACEIO.AL.GOV.BR',\n",
       " 'Ficha de Compensação - Autenticação Mecânica',\n",
       " '81620000000-7 70872485202-3 10331110000-4 00075755253-4']"
      ]
     },
     "execution_count": 11,
     "metadata": {},
     "output_type": "execute_result"
    }
   ],
   "source": [
    "text_RAM"
   ]
  },
  {
   "cell_type": "code",
   "execution_count": 12,
   "metadata": {},
   "outputs": [
    {
     "name": "stdout",
     "output_type": "stream",
     "text": [
      "31/03/2021\n"
     ]
    }
   ],
   "source": [
    "tira_rep = 0\n",
    "for x in range (0, len(text_RAM)):\n",
    "    \n",
    "    #nome do contribuinte\n",
    "    if text_RAM[x] == 'Contribuinte D.A.M.':\n",
    "        a = text_RAM[x+1]\n",
    "    #CPF/CNPJ  //  Inscrição/CMC  //  Tributos  //  Referência  //  Vencimento\n",
    "    if text_RAM[x][:8] == 'CPF/CNPJ':\n",
    "        if tira_rep == 0:\n",
    "            tira_rep = 1\n",
    "            dados = text_RAM[x+1].split(\" \")\n",
    "            cpf_cnpj = dados[0]\n",
    "            inscricao_CMC = dados[1]\n",
    "            tributos = dados[2] + \" \" + dados[3]\n",
    "            referencia = dados[4]\n",
    "            vencimento = dados[5]\n",
    "            print(vencimento)\n",
    "    #Logradouro\n",
    "    #Número\n",
    "    #CEP\n",
    "    #Bairro\n",
    "    #Complemento\n",
    "    #Área terreno\n",
    "    #Área Total Construída\n",
    "    #Área Construída Unidade\n",
    "    #Valor Venal Terreno\n",
    "    #Valor Venal Construção\n",
    "    #Valor Venal Imóvel \n",
    "    #Base de Cálculo\n",
    "    #Alíquota\n",
    "    \n",
    "    #total a pagar\n",
    "    if text_RAM[x][0:len('Total a Pagar: ')] == 'Total a Pagar: ':\n",
    "        total_a_pagar = float(text_RAM[x][len('Total a Pagar: '):].replace(',', '.'))"
   ]
  },
  {
   "cell_type": "code",
   "execution_count": 13,
   "metadata": {},
   "outputs": [
    {
     "data": {
      "text/plain": [
       "70.87"
      ]
     },
     "execution_count": 13,
     "metadata": {},
     "output_type": "execute_result"
    }
   ],
   "source": [
    "total_a_pagar"
   ]
  },
  {
   "cell_type": "code",
   "execution_count": 14,
   "metadata": {},
   "outputs": [],
   "source": [
    "codBarras = text_RAM[-1]"
   ]
  },
  {
   "cell_type": "code",
   "execution_count": 15,
   "metadata": {},
   "outputs": [
    {
     "data": {
      "text/plain": [
       "'81620000000-7 70872485202-3 10331110000-4 00075755253-4'"
      ]
     },
     "execution_count": 15,
     "metadata": {},
     "output_type": "execute_result"
    }
   ],
   "source": [
    "codBarras"
   ]
  },
  {
   "cell_type": "code",
   "execution_count": 16,
   "metadata": {},
   "outputs": [],
   "source": [
    "def extrair(pdf):\n",
    "    tira_rep = 0\n",
    "    for x in range (0, len(pdf)):\n",
    "\n",
    "        #nome do contribuinte\n",
    "        if pdf[x] == 'Contribuinte D.A.M.':\n",
    "            nome = text_RAM[x+1].upper()\n",
    "            nome = re.sub('[^A-Z]', ' ', nome).strip(\" \")\n",
    "        #CPF/CNPJ  //  Inscrição/CMC  //  Tributos  //  Referência  //  Vencimento\n",
    "        if pdf[x][:8] == 'CPF/CNPJ':\n",
    "            if tira_rep == 0:\n",
    "                tira_rep = 1\n",
    "                dados = pdf[x+1].split(\" \")\n",
    "                cpf_cnpj = dados[0]\n",
    "                inscricao_CMC = dados[1]\n",
    "                tributos = dados[2] + \" \" + dados[3]\n",
    "                referencia = dados[4]\n",
    "                vencimento = dados[5]\n",
    "        #Logradouro\n",
    "        #Número\n",
    "        #CEP\n",
    "        #Bairro\n",
    "        #Complemento\n",
    "        #Área terreno\n",
    "        #Área Total Construída\n",
    "        #Área Construída Unidade\n",
    "        #Valor Venal Terreno\n",
    "        #Valor Venal Construção\n",
    "        #Valor Venal Imóvel \n",
    "        #Base de Cálculo\n",
    "        #Alíquota\n",
    "\n",
    "        #total a pagar\n",
    "        if pdf[x][0:len('Total a Pagar: ')] == 'Total a Pagar: ':\n",
    "            total_a_pagar = float(pdf[x][len('Total a Pagar: '):].replace(',', '.'))\n",
    "        codBarras = pdf[-1]\n",
    "        \n",
    "    dados_para_df = {'Nome':[nome],\"cpf_cnpj\":[cpf_cnpj],\"inscricao_CMC\":[inscricao_CMC],\"tributos\":tributos,\"referencia\":[referencia],\"vencimento\":[vencimento],\"total_a_pagar\":[total_a_pagar],'codBarras':[codBarras]}\n",
    "    df = pd.DataFrame(dados_para_df).T\n",
    "    return df"
   ]
  },
  {
   "cell_type": "code",
   "execution_count": 17,
   "metadata": {},
   "outputs": [
    {
     "data": {
      "text/html": [
       "<div>\n",
       "<style scoped>\n",
       "    .dataframe tbody tr th:only-of-type {\n",
       "        vertical-align: middle;\n",
       "    }\n",
       "\n",
       "    .dataframe tbody tr th {\n",
       "        vertical-align: top;\n",
       "    }\n",
       "\n",
       "    .dataframe thead th {\n",
       "        text-align: right;\n",
       "    }\n",
       "</style>\n",
       "<table border=\"1\" class=\"dataframe\">\n",
       "  <thead>\n",
       "    <tr style=\"text-align: right;\">\n",
       "      <th></th>\n",
       "      <th>0</th>\n",
       "    </tr>\n",
       "  </thead>\n",
       "  <tbody>\n",
       "    <tr>\n",
       "      <th>Nome</th>\n",
       "      <td>MANOEL CORREIA TELLES</td>\n",
       "    </tr>\n",
       "    <tr>\n",
       "      <th>cpf_cnpj</th>\n",
       "      <td>002.643.184-04</td>\n",
       "    </tr>\n",
       "    <tr>\n",
       "      <th>inscricao_CMC</th>\n",
       "      <td>000000000120433</td>\n",
       "    </tr>\n",
       "    <tr>\n",
       "      <th>tributos</th>\n",
       "      <td>I.P.T.U. 2021</td>\n",
       "    </tr>\n",
       "    <tr>\n",
       "      <th>referencia</th>\n",
       "      <td>1/10</td>\n",
       "    </tr>\n",
       "    <tr>\n",
       "      <th>vencimento</th>\n",
       "      <td>31/03/2021</td>\n",
       "    </tr>\n",
       "    <tr>\n",
       "      <th>total_a_pagar</th>\n",
       "      <td>70.87</td>\n",
       "    </tr>\n",
       "    <tr>\n",
       "      <th>codBarras</th>\n",
       "      <td>81620000000-7 70872485202-3 10331110000-4 0007...</td>\n",
       "    </tr>\n",
       "  </tbody>\n",
       "</table>\n",
       "</div>"
      ],
      "text/plain": [
       "                                                               0\n",
       "Nome                                       MANOEL CORREIA TELLES\n",
       "cpf_cnpj                                          002.643.184-04\n",
       "inscricao_CMC                                    000000000120433\n",
       "tributos                                           I.P.T.U. 2021\n",
       "referencia                                                  1/10\n",
       "vencimento                                            31/03/2021\n",
       "total_a_pagar                                              70.87\n",
       "codBarras      81620000000-7 70872485202-3 10331110000-4 0007..."
      ]
     },
     "execution_count": 17,
     "metadata": {},
     "output_type": "execute_result"
    }
   ],
   "source": [
    "extrair(text_RAM)"
   ]
  },
  {
   "cell_type": "code",
   "execution_count": 21,
   "metadata": {},
   "outputs": [],
   "source": [
    "def escrever(nome_arquivo):\n",
    "    with pdfplumber.open(\"arquivo/\"+nome_arquivo) as pdf:\n",
    "\n",
    "        RAM_u = pdf.pages[-1]\n",
    "        RAM_u.chars[0]\n",
    "        text_RAM_u = RAM_u.extract_text().split(\"\\n\")\n",
    "        \n",
    "    return text_RAM_u"
   ]
  },
  {
   "cell_type": "code",
   "execution_count": 19,
   "metadata": {},
   "outputs": [
    {
     "data": {
      "text/plain": [
       "['Emitido em 23/01/2021 11:31:49',\n",
       " 'Total  7.770,57 -1.096,01 6.674,56',\n",
       " ' ',\n",
       " ' ',\n",
       " ' ',\n",
       " ' ',\n",
       " ' ',\n",
       " 'Zampieri Aluguéis',\n",
       " 'Rua Durval Guimarães, 1738  - Ponta Verde',\n",
       " 'Fone (82) 2121-6000 - Maceió / AL -',\n",
       " '3 de 3']"
      ]
     },
     "execution_count": 19,
     "metadata": {},
     "output_type": "execute_result"
    }
   ],
   "source": [
    "escrever(\"Extrato Agrupado Simplificado.pdf\")"
   ]
  },
  {
   "cell_type": "code",
   "execution_count": null,
   "metadata": {},
   "outputs": [],
   "source": []
  },
  {
   "cell_type": "code",
   "execution_count": null,
   "metadata": {},
   "outputs": [],
   "source": []
  }
 ],
 "metadata": {
  "kernelspec": {
   "display_name": "Python 3",
   "language": "python",
   "name": "python3"
  },
  "language_info": {
   "codemirror_mode": {
    "name": "ipython",
    "version": 3
   },
   "file_extension": ".py",
   "mimetype": "text/x-python",
   "name": "python",
   "nbconvert_exporter": "python",
   "pygments_lexer": "ipython3",
   "version": "3.8.5"
  }
 },
 "nbformat": 4,
 "nbformat_minor": 4
}
