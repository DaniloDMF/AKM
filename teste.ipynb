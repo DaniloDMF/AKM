{
 "cells": [
  {
   "cell_type": "code",
   "execution_count": 1,
   "metadata": {},
   "outputs": [],
   "source": [
    "import re\n",
    "import pandas as pd\n",
    "import requests\n",
    "import pdfplumber"
   ]
  },
  {
   "cell_type": "code",
   "execution_count": 2,
   "metadata": {},
   "outputs": [],
   "source": [
    "arquivo = pdfplumber.open(\"arquivo/Extrato Banco.pdf\")"
   ]
  },
  {
   "cell_type": "code",
   "execution_count": 3,
   "metadata": {},
   "outputs": [],
   "source": [
    "with pdfplumber.open(\"arquivo/Extrato Agrupado Simplificado.pdf\") as pdf:\n",
    "    a = pdf.pages[0]\n",
    "    a.chars[0]"
   ]
  },
  {
   "cell_type": "code",
   "execution_count": 4,
   "metadata": {},
   "outputs": [],
   "source": [
    "b = a.extract_text().split(\"\\n\")"
   ]
  },
  {
   "cell_type": "code",
   "execution_count": 5,
   "metadata": {},
   "outputs": [],
   "source": [
    "serie = pd.Series(b)"
   ]
  },
  {
   "cell_type": "code",
   "execution_count": 6,
   "metadata": {},
   "outputs": [],
   "source": [
    "contratos = []\n",
    "aluguel = []"
   ]
  },
  {
   "cell_type": "code",
   "execution_count": 7,
   "metadata": {},
   "outputs": [],
   "source": [
    "for x in range (0, len(serie)):\n",
    "    linha = serie.loc[x]\n",
    "    primeira_palavra = linha.split(\" \")[0]\n",
    "    \n",
    "    if primeira_palavra == \"Emitido\":\n",
    "        data_emicao = linha.split(\" \")[2]\n",
    "        \n",
    "    if primeira_palavra == \"Contrato\":\n",
    "        contratos.append(linha[len(\"Contrato \"):])\n",
    "        \n",
    "    if primeira_palavra == \"Aluguel\":\n",
    "        aluguel.append(float((linha[len(\"Aluguel - 01/12/2020 até 31/12/2020 \"):].replace(\",\", \".\"))))"
   ]
  },
  {
   "cell_type": "code",
   "execution_count": 8,
   "metadata": {},
   "outputs": [
    {
     "data": {
      "text/plain": [
       "[368.3, 368.3, 429.68, 437.77]"
      ]
     },
     "execution_count": 8,
     "metadata": {},
     "output_type": "execute_result"
    }
   ],
   "source": [
    "aluguel"
   ]
  },
  {
   "cell_type": "code",
   "execution_count": 10,
   "metadata": {},
   "outputs": [
    {
     "data": {
      "text/plain": [
       "['PDF',\n",
       " '__all__',\n",
       " '__builtins__',\n",
       " '__cached__',\n",
       " '__doc__',\n",
       " '__file__',\n",
       " '__loader__',\n",
       " '__name__',\n",
       " '__package__',\n",
       " '__path__',\n",
       " '__spec__',\n",
       " '__version__',\n",
       " '_version',\n",
       " 'container',\n",
       " 'convert',\n",
       " 'load',\n",
       " 'open',\n",
       " 'page',\n",
       " 'pdf',\n",
       " 'pdfminer',\n",
       " 'set_debug',\n",
       " 'sys',\n",
       " 'table',\n",
       " 'utils']"
      ]
     },
     "execution_count": 10,
     "metadata": {},
     "output_type": "execute_result"
    }
   ],
   "source": [
    "dir(pdfplumber)"
   ]
  },
  {
   "cell_type": "code",
   "execution_count": 14,
   "metadata": {},
   "outputs": [
    {
     "data": {
      "text/plain": [
       "['ALL_ATTRS',\n",
       " 'Container',\n",
       " 'CroppedPage',\n",
       " 'DECIMAL_ATTRS',\n",
       " 'DerivedPage',\n",
       " 'FilteredPage',\n",
       " 'Page',\n",
       " 'TableFinder',\n",
       " '__builtins__',\n",
       " '__cached__',\n",
       " '__doc__',\n",
       " '__file__',\n",
       " '__loader__',\n",
       " '__name__',\n",
       " '__package__',\n",
       " '__spec__',\n",
       " 'lt_pat',\n",
       " 're',\n",
       " 'resolve_all',\n",
       " 'test_proposed_bbox',\n",
       " 'utils']"
      ]
     },
     "execution_count": 14,
     "metadata": {},
     "output_type": "execute_result"
    }
   ],
   "source": [
    "dir(pdfplumber.page)"
   ]
  },
  {
   "cell_type": "code",
   "execution_count": null,
   "metadata": {},
   "outputs": [],
   "source": []
  },
  {
   "cell_type": "code",
   "execution_count": null,
   "metadata": {},
   "outputs": [],
   "source": []
  },
  {
   "cell_type": "markdown",
   "metadata": {},
   "source": [
    "<h1>Desafio 1</h1>"
   ]
  },
  {
   "cell_type": "code",
   "execution_count": 17,
   "metadata": {},
   "outputs": [],
   "source": [
    "with pdfplumber.open(\"arquivo/Rua Ângelo Martins, 445 1-10.pdf\") as pdf:\n",
    "    RAM = pdf.pages[0]\n",
    "    RAM.chars[0]"
   ]
  },
  {
   "cell_type": "code",
   "execution_count": 20,
   "metadata": {},
   "outputs": [],
   "source": [
    "text_RAM = RAM.extract_text().split(\"\\n\")"
   ]
  },
  {
   "cell_type": "code",
   "execution_count": 21,
   "metadata": {},
   "outputs": [
    {
     "data": {
      "text/plain": [
       "['SEMEC - PREFEITURA MUNICIPAL DE MACEIO',\n",
       " 'SECRETARIA MUNICIPAL DE ECONOMIA - SEMEC',\n",
       " 'DOCUMENTO DE ARRECADAÇÃO MUNICIPAL - D.A.M MENSAL Text',\n",
       " 'Perdeu o prazo do DAM? Emita automaticamente através do QRCODE',\n",
       " 'Contribuinte D.A.M.',\n",
       " 'MANOEL CORREIA TELLES 66114110 / 2021',\n",
       " 'CPF/CNPJ Inscrição / C.M.C. Tributos Referência Vencimento Nosso Número',\n",
       " '002.643.184-04 000000000120433 I.P.T.U. 2021 1/10 31/03/2021 11000000075755253',\n",
       " 'Endereço de Localização',\n",
       " 'Logradouro: RUA - ÂNGELO MARTINS 00445 Cep: 57030592',\n",
       " 'Número:',\n",
       " 'Bairro: PONTA DA TERRA Complemento: Lote: 0530 Quadra: 0102',\n",
       " 'Loteamento: Quadra Lot.: Lote Lot.:',\n",
       " 'Imóvel: PREDIAL Identificação: 05010240530001',\n",
       " 'Área Terreno: 119,00 Área Total Construída: 73,58 Área Construída Unidade: 73,58',\n",
       " 'Valor Venal Terreno: 24.273,80 Valor Venal Construção: 51.307,41',\n",
       " 'Valor Venal Imóvel: 75.581,21 Base de Cálculo: 45.348,73 Alíquota:  1,0000',\n",
       " 'IPTU PREDIAL - PRINCIPAL 45,35',\n",
       " 'COLETA DE LIXO 25,52 Valor R$ 70,87',\n",
       " 'DESCONTO: 0,00',\n",
       " 'Total: 70,87 Emissão:27/01/2021 Usuário:123456',\n",
       " 'Autenticação:',\n",
       " '81620000000-7 70872485202-3 10331110000-4 00075755253-4',\n",
       " 'SEMEC - PREFEITURA MUNICIPAL DE MACEIO',\n",
       " 'SECRETARIA MUNICIPAL DE ECONOMIA - SEMEC',\n",
       " 'DOCUMENTO DE ARRECADAÇÃO MUNICIPAL - D.A.M MENSAL',\n",
       " 'Contribuinte',\n",
       " 'MANOEL CORREIA TELLES',\n",
       " 'CPF/CNPJ Inscrição / C.M.C. Tributos Referência Vencimento Nosso Número',\n",
       " '002.643.184-04 000000000120433 I.P.T.U. 2021 1/10 31/03/2021 11000000075755253',\n",
       " 'RUA - ÂNGELO MARTINS, Número: 00445, Quadra: 0102, Lote: 0530 - CEP: 57030592    Bairro: PONTA DA TERRA',\n",
       " 'IPTU PREDIAL - PRINCIPAL  45,35       COLETA DE LIXO  25,52       DESCONTO:  0,00',\n",
       " 'Total a Pagar: 70,87',\n",
       " 'Instruções:',\n",
       " 'LOCAIS PARA PAGAMENTO:',\n",
       " 'CAIXA ECONÔMICA FEDERAL, SANTANDER, BRADESCO, ITAU,',\n",
       " 'BANCO DO BRASIL, SICREDI, LOTERIAS, MULTIBANK E CORREIOS.',\n",
       " 'EMITA SUA SEGUNDA VIA E OUTROS SERVIÇOS EM',\n",
       " 'WWW.ONLINE.MACEIO.AL.GOV.BR',\n",
       " 'Ficha de Compensação - Autenticação Mecânica',\n",
       " '81620000000-7 70872485202-3 10331110000-4 00075755253-4']"
      ]
     },
     "execution_count": 21,
     "metadata": {},
     "output_type": "execute_result"
    }
   ],
   "source": [
    "text_RAM"
   ]
  },
  {
   "cell_type": "code",
   "execution_count": 36,
   "metadata": {},
   "outputs": [],
   "source": [
    "for x in range (0, len(text_RAM)):\n",
    "    if text_RAM[x][0:len('Total a Pagar: ')] == 'Total a Pagar: ':\n",
    "        total_a_pagar = float(text_RAM[x][len('Total a Pagar: '):].replace(',', '.'))"
   ]
  },
  {
   "cell_type": "code",
   "execution_count": 37,
   "metadata": {},
   "outputs": [
    {
     "data": {
      "text/plain": [
       "70.87"
      ]
     },
     "execution_count": 37,
     "metadata": {},
     "output_type": "execute_result"
    }
   ],
   "source": [
    "total_a_pagar"
   ]
  },
  {
   "cell_type": "code",
   "execution_count": 22,
   "metadata": {},
   "outputs": [],
   "source": [
    "codBarras = text_RAM[-1]"
   ]
  },
  {
   "cell_type": "code",
   "execution_count": 23,
   "metadata": {},
   "outputs": [
    {
     "data": {
      "text/plain": [
       "'81620000000-7 70872485202-3 10331110000-4 00075755253-4'"
      ]
     },
     "execution_count": 23,
     "metadata": {},
     "output_type": "execute_result"
    }
   ],
   "source": [
    "codBarras"
   ]
  },
  {
   "cell_type": "code",
   "execution_count": null,
   "metadata": {},
   "outputs": [],
   "source": []
  }
 ],
 "metadata": {
  "kernelspec": {
   "display_name": "Python 3",
   "language": "python",
   "name": "python3"
  },
  "language_info": {
   "codemirror_mode": {
    "name": "ipython",
    "version": 3
   },
   "file_extension": ".py",
   "mimetype": "text/x-python",
   "name": "python",
   "nbconvert_exporter": "python",
   "pygments_lexer": "ipython3",
   "version": "3.8.5"
  }
 },
 "nbformat": 4,
 "nbformat_minor": 4
}
