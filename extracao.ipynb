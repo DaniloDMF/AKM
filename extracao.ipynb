{
 "cells": [
  {
   "cell_type": "code",
   "execution_count": 8,
   "metadata": {},
   "outputs": [],
   "source": [
    "import re\n",
    "import pandas as pd\n",
    "import requests\n",
    "import pdfplumber"
   ]
  },
  {
   "cell_type": "code",
   "execution_count": 21,
   "metadata": {},
   "outputs": [],
   "source": [
    "with pdfplumber.open(\"C:/Users/T-Gamer/Documents/GitHub/AKM/arquivo/Extrato Agrupado Simplificado.pdf\") as pdf:\n",
    "    \n",
    "    #primeira pagina do arquivo\n",
    "    primeira_pagina = pdf.pages[0]\n",
    "    \n",
    "    #texto da primeira pagina\n",
    "    text = primeira_pagina.extract_text().split(\"\\n\")\n",
    "    \n",
    "    #linhas da primeira pagina\n",
    "    linhas = pd.Series(text)"
   ]
  },
  {
   "cell_type": "code",
   "execution_count": 19,
   "metadata": {},
   "outputs": [],
   "source": [
    "for x in range (0, len(serie)):\n",
    "    linha_unica = linhas.loc[x]\n",
    "    primeira_palavra = linha_unica.split(\" \")[0]\n",
    "    if primeira_palavra == \"Emitido\":\n",
    "        data_emicao = linha_unica.split(\" \")[2]"
   ]
  },
  {
   "cell_type": "code",
   "execution_count": 20,
   "metadata": {},
   "outputs": [
    {
     "data": {
      "text/plain": [
       "'23/01/2021'"
      ]
     },
     "execution_count": 20,
     "metadata": {},
     "output_type": "execute_result"
    }
   ],
   "source": [
    "data_emicao"
   ]
  },
  {
   "cell_type": "code",
   "execution_count": null,
   "metadata": {},
   "outputs": [],
   "source": []
  }
 ],
 "metadata": {
  "kernelspec": {
   "display_name": "Python 3",
   "language": "python",
   "name": "python3"
  },
  "language_info": {
   "codemirror_mode": {
    "name": "ipython",
    "version": 3
   },
   "file_extension": ".py",
   "mimetype": "text/x-python",
   "name": "python",
   "nbconvert_exporter": "python",
   "pygments_lexer": "ipython3",
   "version": "3.8.5"
  }
 },
 "nbformat": 4,
 "nbformat_minor": 4
}
