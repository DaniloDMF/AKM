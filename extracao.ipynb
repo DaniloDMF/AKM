{
 "cells": [
  {
   "cell_type": "code",
   "execution_count": 1,
   "metadata": {},
   "outputs": [],
   "source": [
    "import re\n",
    "import pandas as pd\n",
    "import requests\n",
    "import pdfplumber"
   ]
  },
  {
   "cell_type": "code",
   "execution_count": 2,
   "metadata": {},
   "outputs": [],
   "source": [
    "with pdfplumber.open(\"C:/Users/T-Gamer/Documents/GitHub/AKM/arquivo/Extrato Agrupado Simplificado.pdf\") as pdf:\n",
    "    \n",
    "    #primeira pagina do arquivo\n",
    "    primeira_pagina = pdf.pages[0]\n",
    "    \n",
    "    #texto da primeira pagina\n",
    "    text = primeira_pagina.extract_text().split(\"\\n\")\n",
    "    \n",
    "    #linhas da primeira pagina\n",
    "    linhas = pd.Series(text)"
   ]
  },
  {
   "cell_type": "code",
   "execution_count": 3,
   "metadata": {},
   "outputs": [],
   "source": [
    "contratos = []"
   ]
  },
  {
   "cell_type": "code",
   "execution_count": 10,
   "metadata": {},
   "outputs": [],
   "source": [
    "for x in range (0, len(linhas)):\n",
    "    linha_unica = linhas.loc[x]\n",
    "    primeira_palavra = linha_unica.split(\" \")[0]\n",
    "    \n",
    "    #seleciona a data de emição\n",
    "    if primeira_palavra == \"Emitido\":\n",
    "        data_emicao = linha_unica.split(\" \")[2]\n",
    "    \n",
    "    #seleciona os contratos\n",
    "    if primeira_palavra == \"Contrato\":\n",
    "        contratos.append(linha_unica[len(\"Contrato \"):])"
   ]
  },
  {
   "cell_type": "code",
   "execution_count": 11,
   "metadata": {},
   "outputs": [
    {
     "data": {
      "text/plain": [
       "'23/01/2021'"
      ]
     },
     "execution_count": 11,
     "metadata": {},
     "output_type": "execute_result"
    }
   ],
   "source": [
    "data_emicao"
   ]
  },
  {
   "cell_type": "code",
   "execution_count": 12,
   "metadata": {},
   "outputs": [
    {
     "data": {
      "text/plain": [
       "['01951013/1 - Sala comercial no Farol, Rua Desembargador Amorim Lima 3  SALA 0008 , Maceió-AL CEP: 57051-180',\n",
       " '01951013/1 - Sala comercial no Farol, Rua Desembargador Amorim Lima 3  SALA 0008 , Maceió-AL CEP: 57051-180',\n",
       " '01951012/1 - Sala comercial no Farol, Rua Desembargador Amorim Lima 03  sala 07 , Maceió-AL CEP: 57051-180',\n",
       " '01951014/1 - Sala comercial no Farol, Rua Desembargador Amorim Lima 3  SALA 09 , Maceió-AL CEP: 57051-180',\n",
       " '01951017/1 - Casa no Centro, Rua Barão de Atalaia 501  CASA 03 , Maceió-AL CEP: 57020-510',\n",
       " '01951006/1 - Sala comercial no Farol, Rua Desembargador Amorim Lima 3  SALA 0001 , Maceió-AL CEP: 57051-180',\n",
       " '01951013/1 - Sala comercial no Farol, Rua Desembargador Amorim Lima 3  SALA 0008 , Maceió-AL CEP: 57051-180',\n",
       " '01951012/1 - Sala comercial no Farol, Rua Desembargador Amorim Lima 03  sala 07 , Maceió-AL CEP: 57051-180',\n",
       " '01951014/1 - Sala comercial no Farol, Rua Desembargador Amorim Lima 3  SALA 09 , Maceió-AL CEP: 57051-180',\n",
       " '01951017/1 - Casa no Centro, Rua Barão de Atalaia 501  CASA 03 , Maceió-AL CEP: 57020-510',\n",
       " '01951006/1 - Sala comercial no Farol, Rua Desembargador Amorim Lima 3  SALA 0001 , Maceió-AL CEP: 57051-180']"
      ]
     },
     "execution_count": 12,
     "metadata": {},
     "output_type": "execute_result"
    }
   ],
   "source": [
    "contratos"
   ]
  }
 ],
 "metadata": {
  "kernelspec": {
   "display_name": "Python 3",
   "language": "python",
   "name": "python3"
  },
  "language_info": {
   "codemirror_mode": {
    "name": "ipython",
    "version": 3
   },
   "file_extension": ".py",
   "mimetype": "text/x-python",
   "name": "python",
   "nbconvert_exporter": "python",
   "pygments_lexer": "ipython3",
   "version": "3.8.5"
  }
 },
 "nbformat": 4,
 "nbformat_minor": 4
}
