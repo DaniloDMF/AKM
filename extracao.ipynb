{
 "cells": [
  {
   "cell_type": "code",
   "execution_count": 40,
   "metadata": {},
   "outputs": [],
   "source": [
    "import re\n",
    "import pandas as pd\n",
    "import requests\n",
    "import pdfplumber"
   ]
  },
  {
   "cell_type": "code",
   "execution_count": 44,
   "metadata": {},
   "outputs": [
    {
     "data": {
      "text/plain": [
       "['PDF',\n",
       " '__all__',\n",
       " '__builtins__',\n",
       " '__cached__',\n",
       " '__doc__',\n",
       " '__file__',\n",
       " '__loader__',\n",
       " '__name__',\n",
       " '__package__',\n",
       " '__path__',\n",
       " '__spec__',\n",
       " '__version__',\n",
       " '_version',\n",
       " 'container',\n",
       " 'convert',\n",
       " 'load',\n",
       " 'open',\n",
       " 'page',\n",
       " 'pdf',\n",
       " 'pdfminer',\n",
       " 'set_debug',\n",
       " 'sys',\n",
       " 'table',\n",
       " 'utils']"
      ]
     },
     "execution_count": 44,
     "metadata": {},
     "output_type": "execute_result"
    }
   ],
   "source": [
    "dir(pdfplumber)"
   ]
  },
  {
   "cell_type": "code",
   "execution_count": 55,
   "metadata": {},
   "outputs": [
    {
     "name": "stdout",
     "output_type": "stream",
     "text": [
      "{'fontname': 'Helvetica', 'adv': Decimal('4.669'), 'upright': True, 'x0': Decimal('264.060'), 'y0': Decimal('827.001'), 'x1': Decimal('268.729'), 'y1': Decimal('834.001'), 'width': Decimal('4.669'), 'height': Decimal('7.000'), 'size': Decimal('7.000'), 'object_type': 'char', 'page_number': 1, 'stroking_color': None, 'non_stroking_color': (0.667, 0.667, 0.667), 'text': 'E', 'top': Decimal('7.889'), 'bottom': Decimal('14.889'), 'doctop': Decimal('7.889')}\n"
     ]
    }
   ],
   "source": [
    "with pdfplumber.open(\"C:/Users/T-Gamer/Documents/GitHub/AKM/arquivo/Extrato Agrupado Simplificado.pdf\") as pdf:\n",
    "    first_page = pdf.pages[0]\n",
    "    print(first_page.chars[0])"
   ]
  },
  {
   "cell_type": "code",
   "execution_count": 56,
   "metadata": {},
   "outputs": [
    {
     "data": {
      "text/plain": [
       "'Emitido em 23/01/2021 11:31:49\\n \\nExtrato agrupado simplificado\\nPosição em 23/01/2021; \\n \\nContrato 01951013/1 - Sala comercial no Farol, Rua Desembargador Amorim Lima 3  SALA 0008 , Maceió-AL CEP: 57051-180\\n \\nDados de pagamento\\nForma pagto DOC/TED Banco do Brasil ( 001 ) Ag 3186-0 CC 37985-9\\nVencimento 22/01/2021 Pagamento 22/01/2021\\n \\nDescrição do repasse Valor\\nAluguel - 01/12/2020 até 31/12/2020 368,30\\nCondomínio 333,33\\nTaxa de administração -55,25\\nTotal para repasse 646,38\\n \\n \\nContrato 01951012/1 - Sala comercial no Farol, Rua Desembargador Amorim Lima 03  sala 07 , Maceió-AL CEP: 57051-180\\n \\nDados de pagamento\\nForma pagto DOC/TED Banco do Brasil ( 001 ) Ag 3186-0 CC 37985-9\\nVencimento 22/01/2021 Pagamento 22/01/2021\\n \\nDescrição do repasse Valor\\nAluguel - 01/12/2020 até 31/12/2020 368,30\\nCondomínio 333,33\\nTaxa de administração -55,25\\nTotal para repasse 646,38\\n \\n \\nContrato 01951014/1 - Sala comercial no Farol, Rua Desembargador Amorim Lima 3  SALA 09 , Maceió-AL CEP: 57051-180\\n \\nDados de pagamento\\nForma pagto DOC/TED Banco do Brasil ( 001 ) Ag 3186-0 CC 37985-9\\nVencimento 22/01/2021 Pagamento 22/01/2021\\n \\nDescrição do repasse Valor\\nAluguel - 01/12/2020 até 31/12/2020 429,68\\nCondomínio 333,33\\nTaxa de administração -64,45\\nTotal para repasse 698,56\\n \\n \\nContrato 01951017/1 - Casa no Centro, Rua Barão de Atalaia 501  CASA 03 , Maceió-AL CEP: 57020-510\\n \\nDados de pagamento\\nForma pagto DOC/TED Banco do Brasil ( 001 ) Ag 3186-0 CC 37985-9\\nVencimento 22/01/2021 Pagamento 22/01/2021\\n \\nDescrição do repasse Valor\\nAluguel - 01/12/2020 até 31/12/2020 437,77\\nTaxa de administração -65,67\\nTotal para repasse 372,10\\n \\n \\nContrato 01951006/1 - Sala comercial no Farol, Rua Desembargador Amorim Lima 3  SALA 0001 , Maceió-AL CEP: 57051-180\\n \\nDados de pagamento\\nForma pagto DOC/TED Banco do Brasil ( 001 ) Ag 3186-0 CC 37985-9\\nVencimento 22/01/2021 Pagamento 22/01/2021\\nZampieri Aluguéis\\nRua Durval Guimarães, 1738  - Ponta Verde\\nFone (82) 2121-6000 - Maceió / AL -\\n1 de 3'"
      ]
     },
     "execution_count": 56,
     "metadata": {},
     "output_type": "execute_result"
    }
   ],
   "source": [
    "a = pdf.pages[0]\n",
    "b = a.extract_text()\n",
    "b\n"
   ]
  },
  {
   "cell_type": "code",
   "execution_count": null,
   "metadata": {},
   "outputs": [],
   "source": []
  }
 ],
 "metadata": {
  "kernelspec": {
   "display_name": "Python 3",
   "language": "python",
   "name": "python3"
  },
  "language_info": {
   "codemirror_mode": {
    "name": "ipython",
    "version": 3
   },
   "file_extension": ".py",
   "mimetype": "text/x-python",
   "name": "python",
   "nbconvert_exporter": "python",
   "pygments_lexer": "ipython3",
   "version": "3.8.5"
  }
 },
 "nbformat": 4,
 "nbformat_minor": 4
}
